{
 "cells": [
  {
   "cell_type": "code",
   "execution_count": null,
   "metadata": {},
   "outputs": [],
   "source": [
    "from theshredbox import social_distancing_config as config\n",
    "from theshredbox.detection import detect_people\n",
    "from scipy.spatial import distance as dist\n",
    "import numpy as np\n",
    "import argparse\n",
    "import imutils\n",
    "import cv2\n",
    "import os"
   ]
  },
  {
   "cell_type": "code",
   "execution_count": 1,
   "metadata": {},
   "outputs": [],
   "source": [
    "# construct the argument parse and parse the arguments"
   ]
  },
  {
   "cell_type": "code",
   "execution_count": null,
   "metadata": {},
   "outputs": [],
   "source": [
    "ap = argparse.ArgumentParser()\n",
    "ap.add_argument(\"-i\", \"--input\", type=str, default=\"\",\n",
    "\thelp=\"path to (optional) input video file\")\n",
    "ap.add_argument(\"-o\", \"--output\", type=str, default=\"\",\n",
    "\thelp=\"path to (optional) output video file\")\n",
    "ap.add_argument(\"-d\", \"--display\", type=int, default=1,\n",
    "\thelp=\"whether or not output frame should be displayed\")\n",
    "args = vars(ap.parse_args())"
   ]
  },
  {
   "cell_type": "code",
   "execution_count": null,
   "metadata": {},
   "outputs": [],
   "source": [
    "#load the COCO class labels our YOLO model was trained on"
   ]
  },
  {
   "cell_type": "code",
   "execution_count": null,
   "metadata": {},
   "outputs": [],
   "source": [
    "labelsPath = os.path.sep.join([config.MODEL_PATH, \"coco.names\"])\n",
    "LABELS = open(labelsPath).read().strip().split(\"\\n\")"
   ]
  },
  {
   "cell_type": "code",
   "execution_count": null,
   "metadata": {},
   "outputs": [],
   "source": [
    "#derive the paths to the YOLO weights and model configuration"
   ]
  },
  {
   "cell_type": "code",
   "execution_count": null,
   "metadata": {},
   "outputs": [],
   "source": [
    "weightsPath = os.path.sep.join([config.MODEL_PATH, \"yolov3.weights\"])\n",
    "configPath = os.path.sep.join([config.MODEL_PATH, \"yolov3.cfg\"])"
   ]
  },
  {
   "cell_type": "code",
   "execution_count": null,
   "metadata": {},
   "outputs": [],
   "source": [
    "#load our YOLO object detector trained on COCO dataset (80 classes)"
   ]
  },
  {
   "cell_type": "code",
   "execution_count": null,
   "metadata": {},
   "outputs": [],
   "source": [
    "print(\"[INFO] loading YOLO from disk...\")\n",
    "net = cv2.dnn.readNetFromDarknet(configPath, weightsPath)"
   ]
  },
  {
   "cell_type": "code",
   "execution_count": null,
   "metadata": {},
   "outputs": [],
   "source": [
    "#check if we are going to use GPU"
   ]
  },
  {
   "cell_type": "code",
   "execution_count": null,
   "metadata": {},
   "outputs": [],
   "source": [
    "if config.USE_GPU:\n",
    "\t# set CUDA as the preferable backend and target\n",
    "\tprint(\"[INFO] setting preferable backend and target to CUDA...\")\n",
    "\tnet.setPreferableBackend(cv2.dnn.DNN_BACKEND_CUDA)\n",
    "\tnet.setPreferableTarget(cv2.dnn.DNN_TARGET_CUDA)"
   ]
  },
  {
   "cell_type": "code",
   "execution_count": null,
   "metadata": {},
   "outputs": [],
   "source": [
    "#determine only the *output* layer names that we need from YOLO"
   ]
  },
  {
   "cell_type": "code",
   "execution_count": null,
   "metadata": {},
   "outputs": [],
   "source": [
    "ln = net.getLayerNames()\n",
    "ln = [ln[i[0] - 1] for i in net.getUnconnectedOutLayers()]"
   ]
  },
  {
   "cell_type": "code",
   "execution_count": null,
   "metadata": {},
   "outputs": [],
   "source": [
    "#initialize the video stream and pointer to output video file"
   ]
  },
  {
   "cell_type": "code",
   "execution_count": null,
   "metadata": {},
   "outputs": [],
   "source": [
    "print(\"[INFO] accessing video stream...\")\n",
    "vs = cv2.VideoCapture(r\"C:\\Users\\Aryan\\PycharmProjects\\COVID WARRIOR\\test4.mp4\")"
   ]
  },
  {
   "cell_type": "code",
   "execution_count": null,
   "metadata": {},
   "outputs": [],
   "source": [
    "writer = None"
   ]
  },
  {
   "cell_type": "markdown",
   "metadata": {},
   "source": [
    "loop over the frames from the video stream"
   ]
  },
  {
   "cell_type": "code",
   "execution_count": null,
   "metadata": {},
   "outputs": [],
   "source": [
    "while True:\n",
    "\t# read the next frame from the file\n",
    "\t(grabbed, frame) = vs.read()"
   ]
  },
  {
   "cell_type": "code",
   "execution_count": null,
   "metadata": {},
   "outputs": [],
   "source": [
    "\t# if the frame was not grabbed, then we have reached the end\n",
    "\t# of the stream\n",
    "\tif not grabbed:\n",
    "\t\tbreak"
   ]
  },
  {
   "cell_type": "code",
   "execution_count": null,
   "metadata": {},
   "outputs": [],
   "source": [
    "\t# resize the frame and then detect people (and only people) in it\n",
    "\tframe = imutils.resize(frame, width=700)\n",
    "\tresults = detect_people(frame, net, ln,\n",
    "\t\tpersonIdx=LABELS.index(\"person\"))"
   ]
  },
  {
   "cell_type": "code",
   "execution_count": null,
   "metadata": {},
   "outputs": [],
   "source": [
    "\t# initialize the set of indexes that violate the minimum social\n",
    "\t# distance\n",
    "\tviolate = set()"
   ]
  },
  {
   "cell_type": "code",
   "execution_count": null,
   "metadata": {},
   "outputs": [],
   "source": [
    "\t# ensure there are *at least* two people detections (required in\n",
    "\t# order to compute our pairwise distance maps)\n",
    "\tif len(results) >= 2:\n",
    "\t\t# extract all centroids from the results and compute the\n",
    "\t\t# Euclidean distances between all pairs of the centroids\n",
    "\t\tcentroids = np.array([r[2] for r in results])\n",
    "\t\tD = dist.cdist(centroids, centroids, metric=\"euclidean\")"
   ]
  },
  {
   "cell_type": "code",
   "execution_count": null,
   "metadata": {},
   "outputs": [],
   "source": [
    "\t\t# loop over the upper triangular of the distance matrix\n",
    "\t\tfor i in range(0, D.shape[0]):\n",
    "\t\t\tfor j in range(i + 1, D.shape[1]):\n",
    "\t\t\t\t# check to see if the distance between any two\n",
    "\t\t\t\t# centroid pairs is less than the configured number\n",
    "\t\t\t\t# of pixels\n",
    "\t\t\t\tif D[i, j] < config.MIN_DISTANCE:\n",
    "\t\t\t\t\t# update our violation set with the indexes of\n",
    "\t\t\t\t\t# the centroid pairs\n",
    "\t\t\t\t\tviolate.add(i)\n",
    "\t\t\t\t\tviolate.add(j)"
   ]
  },
  {
   "cell_type": "code",
   "execution_count": null,
   "metadata": {},
   "outputs": [],
   "source": [
    "\t# loop over the results\n",
    "\tfor (i, (prob, bbox, centroid)) in enumerate(results):\n",
    "\t\t# extract the bounding box and centroid coordinates, then\n",
    "\t\t# initialize the color of the annotation\n",
    "\t\t(startX, startY, endX, endY) = bbox\n",
    "\t\t(cX, cY) = centroid\n",
    "\t\tcolor = (0, 255, 0)"
   ]
  },
  {
   "cell_type": "code",
   "execution_count": null,
   "metadata": {},
   "outputs": [],
   "source": [
    "\t\t# if the index pair exists within the violation set, then\n",
    "\t\t# update the color\n",
    "\t\tif i in violate:\n",
    "\t\t\tcolor = (0, 0, 255)"
   ]
  },
  {
   "cell_type": "code",
   "execution_count": null,
   "metadata": {},
   "outputs": [],
   "source": [
    "\t\t# draw (1) a bounding box around the person and (2) the\n",
    "\t\t# centroid coordinates of the person,\n",
    "\t\tcv2.rectangle(frame, (startX, startY), (endX, endY), color, 2)\n",
    "\t\tcv2.circle(frame, (cX, cY), 5, color, 1)"
   ]
  },
  {
   "cell_type": "code",
   "execution_count": null,
   "metadata": {},
   "outputs": [],
   "source": [
    "\t# draw the total number of social distancing violations on the\n",
    "\t# output frame\n",
    "\ttext = \"Social Distancing Violations: {}\".format(len(violate))\n",
    "\tcv2.putText(frame, text, (10, frame.shape[0] - 25),\n",
    "\t\tcv2.FONT_HERSHEY_SIMPLEX, 0.85, (0, 0, 255), 3)"
   ]
  },
  {
   "cell_type": "code",
   "execution_count": null,
   "metadata": {},
   "outputs": [],
   "source": [
    "\t# check to see if the output frame should be displayed to our\n",
    "\t# screen\n",
    "\tif args[\"display\"] > 0:\n",
    "\t\t# show the output frame\n",
    "\t\tcv2.imshow(\"Frame\", frame)\n",
    "\t\tkey = cv2.waitKey(1) & 0xFF"
   ]
  },
  {
   "cell_type": "code",
   "execution_count": null,
   "metadata": {},
   "outputs": [],
   "source": [
    "\t\t# if the `q` key was pressed, break from the loop\n",
    "\t\tif key == ord(\"q\"):\n",
    "\t\t\tbreak"
   ]
  },
  {
   "cell_type": "code",
   "execution_count": null,
   "metadata": {},
   "outputs": [],
   "source": [
    "\t# if an output video file path has been supplied and the video\n",
    "\t# writer has not been initialized, do so now\n",
    "\tif args[\"output\"] != \"\" and writer is None:\n",
    "\t\t# initialize our video writer\n",
    "\t\tfourcc = cv2.VideoWriter_fourcc(*\"MJPG\")\n",
    "\t\twriter = cv2.VideoWriter(args[\"output\"], fourcc, 25,\n",
    "\t\t\t(frame.shape[1], frame.shape[0]), True)"
   ]
  },
  {
   "cell_type": "code",
   "execution_count": null,
   "metadata": {},
   "outputs": [],
   "source": [
    "\t# if the video writer is not None, write the frame to the output\n",
    "\t# video file\n",
    "\tif writer is not None:\n",
    "\t\twriter.write(frame)"
   ]
  }
 ],
 "metadata": {
  "kernelspec": {
   "display_name": "Python 3",
   "language": "python",
   "name": "python3"
  },
  "language_info": {
   "codemirror_mode": {
    "name": "ipython",
    "version": 3
   },
   "file_extension": ".py",
   "mimetype": "text/x-python",
   "name": "python",
   "nbconvert_exporter": "python",
   "pygments_lexer": "ipython3",
   "version": "3.7.6"
  }
 },
 "nbformat": 4,
 "nbformat_minor": 2
}
