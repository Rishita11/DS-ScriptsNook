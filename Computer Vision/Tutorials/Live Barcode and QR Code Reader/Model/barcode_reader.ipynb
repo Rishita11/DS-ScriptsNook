{
  "nbformat": 4,
  "nbformat_minor": 0,
  "metadata": {
    "colab": {
      "name": "barcode_reader.ipynb",
      "provenance": [],
      "collapsed_sections": []
    },
    "kernelspec": {
      "name": "python3",
      "display_name": "Python 3"
    },
    "language_info": {
      "name": "python"
    }
  },
  "cells": [
    {
      "cell_type": "markdown",
      "metadata": {
        "id": "79MjgLcaGlCg"
      },
      "source": [
        "# QRcode/Barcode Scanner "
      ]
    },
    {
      "cell_type": "markdown",
      "metadata": {
        "id": "Ezv71kGJsW8z"
      },
      "source": [
        "This is a sample code:\n",
        "\n",
        "when you will be running the task in your local enviornment you will need .py file which I have provided in the Model folder."
      ]
    },
    {
      "cell_type": "code",
      "metadata": {
        "colab": {
          "base_uri": "https://localhost:8080/"
        },
        "id": "gic2b1md14Ml",
        "outputId": "aca2a998-7f6e-4f32-e14c-81cecae583d4"
      },
      "source": [
        "# install the pillow library \n",
        "\n",
        "!pip install Pillow"
      ],
      "execution_count": null,
      "outputs": [
        {
          "output_type": "stream",
          "text": [
            "Requirement already satisfied: Pillow in /usr/local/lib/python3.7/dist-packages (7.1.2)\n"
          ],
          "name": "stdout"
        }
      ]
    },
    {
      "cell_type": "code",
      "metadata": {
        "colab": {
          "base_uri": "https://localhost:8080/"
        },
        "id": "NpltStcI16tX",
        "outputId": "40ec1b4d-302e-4a97-bdb4-428a7662978c"
      },
      "source": [
        "# install the open-cv library\n",
        "\n",
        "!pip install opencv-python"
      ],
      "execution_count": null,
      "outputs": [
        {
          "output_type": "stream",
          "text": [
            "Requirement already satisfied: opencv-python in /usr/local/lib/python3.7/dist-packages (4.1.2.30)\n",
            "Requirement already satisfied: numpy>=1.14.5 in /usr/local/lib/python3.7/dist-packages (from opencv-python) (1.19.5)\n"
          ],
          "name": "stdout"
        }
      ]
    },
    {
      "cell_type": "code",
      "metadata": {
        "colab": {
          "base_uri": "https://localhost:8080/"
        },
        "id": "GRPT4bGF25io",
        "outputId": "aceb3b9a-a950-4dc5-80e5-eda50a392d12"
      },
      "source": [
        "!apt install libzbar0"
      ],
      "execution_count": null,
      "outputs": [
        {
          "output_type": "stream",
          "text": [
            "Reading package lists... Done\n",
            "Building dependency tree       \n",
            "Reading state information... Done\n",
            "libzbar0 is already the newest version (0.10+doc-10.1build2).\n",
            "0 upgraded, 0 newly installed, 0 to remove and 40 not upgraded.\n"
          ],
          "name": "stdout"
        }
      ]
    },
    {
      "cell_type": "code",
      "metadata": {
        "colab": {
          "base_uri": "https://localhost:8080/"
        },
        "id": "kc1X7UW-17ge",
        "outputId": "2e7b7b0a-03c9-414f-d58a-ec739795e0e0"
      },
      "source": [
        "# install pyzbar if you you use windows OS else replace it with zbar\n",
        "\n",
        "!pip install pyzbar"
      ],
      "execution_count": null,
      "outputs": [
        {
          "output_type": "stream",
          "text": [
            "Requirement already satisfied: pyzbar in /usr/local/lib/python3.7/dist-packages (0.1.8)\n"
          ],
          "name": "stdout"
        }
      ]
    },
    {
      "cell_type": "code",
      "metadata": {
        "id": "nIO320TA13Le"
      },
      "source": [
        "#importing required packages\n",
        "\n",
        "import cv2\n",
        "from pyzbar import pyzbar"
      ],
      "execution_count": null,
      "outputs": []
    },
    {
      "cell_type": "code",
      "metadata": {
        "id": "YgWBwbGT3EZA"
      },
      "source": [
        "# Decoding Function\n",
        "def read_barcodes(frame):\n",
        "    barcodes = pyzbar.decode(frame)\n",
        "\n",
        "    #for loop to scan multiple barcodes\n",
        "    for barcode in barcodes:\n",
        "        x, y , w, h = barcode.rect\n",
        "\n",
        "        #1 parameter for the bounding box\n",
        "        barcode_info = barcode.data.decode('utf-8')\n",
        "        cv2.rectangle(frame, (x, y),(x+w, y+h), (0, 255, 0), 2)\n",
        "        \n",
        "        #2 attributes for the bounding \n",
        "        font = cv2.FONT_HERSHEY_DUPLEX\n",
        "        cv2.putText(frame, barcode_info, (x + 6, y - 6), font, 2.0, (255, 255, 255), 1)\n",
        "\n",
        "        #3 Saving of scanned code in .txt file\n",
        "        with open(\"barcode_result.txt\", mode ='w') as file:\n",
        "            file.write(\"Recognized Barcode:\" + barcode_info)\n",
        "    return frame"
      ],
      "execution_count": null,
      "outputs": []
    },
    {
      "cell_type": "code",
      "metadata": {
        "id": "7fHH2kpn3IX2"
      },
      "source": [
        "# Main Function\n",
        "\n",
        "def main():\n",
        "    #1 command to access the camera\n",
        "    # replace 0 with 1 if you are using external camera\n",
        "    camera = cv2.VideoCapture(0)\n",
        "    ret, frame = camera.read()\n",
        "\n",
        "    #2 while loop to read multiple barcodes\n",
        "    while ret:\n",
        "        ret, frame = camera.read()\n",
        "        frame = read_barcodes(frame)\n",
        "        cv2.imshow('Barcode/QR code reader', frame)\n",
        "        # this command lets you to click ESC button and exit view finder\n",
        "        if cv2.waitKey(1) & 0xFF == 27:\n",
        "            break\n",
        "\n",
        "    #3 Clears all windows after execution\n",
        "    camera.release()\n",
        "    cv2.destroyAllWindows()\n",
        "\n",
        "#4 calling the main function\n",
        "if __name__ == '__main__':\n",
        "    main()"
      ],
      "execution_count": null,
      "outputs": []
    }
  ]
}