{
  "nbformat": 4,
  "nbformat_minor": 0,
  "metadata": {
    "colab": {
      "name": "ridge_regression.ipynb",
      "provenance": [],
      "collapsed_sections": []
    },
    "kernelspec": {
      "name": "python3",
      "display_name": "Python 3"
    },
    "language_info": {
      "name": "python"
    }
  },
  "cells": [
    {
      "cell_type": "markdown",
      "metadata": {
        "id": "Wnzi1EtbQvAD"
      },
      "source": [
        "# **Ridge Regression**\n",
        "Ridge regression is a method of estimating the coefficients of multiple-regression models in scenarios where independent variables are highly correlated. It has uses in fields including econometrics, chemistry, and engineering."
      ]
    },
    {
      "cell_type": "markdown",
      "metadata": {
        "id": "vjT_sorYQ2F8"
      },
      "source": [
        "Let's understand ridge regression using a project as 'Air Quality Prediction'."
      ]
    },
    {
      "cell_type": "markdown",
      "metadata": {
        "id": "mqZOrk7rRMyr"
      },
      "source": [
        "### Steps been followed are as:\n",
        "\n",
        "Step 1:Data Exploration\n",
        "\n",
        "Step 2: Data Cleaning\n",
        "\n",
        "Step 3: Data Visualization\n",
        "\n",
        "Step 4:Data training\n",
        "\n",
        "Step 5: Model Creation\n",
        "\n",
        "Step 6: Performance Evaluation"
      ]
    },
    {
      "cell_type": "markdown",
      "metadata": {
        "id": "_VeW5YtA1XbA"
      },
      "source": [
        "For the dataset being used in this project [click here ](https://www.kaggle.com/rohanrao/air-quality-data-in-india)"
      ]
    },
    {
      "cell_type": "markdown",
      "metadata": {
        "id": "XQCYck-bQnUu"
      },
      "source": [
        "## **Data Exploration**"
      ]
    },
    {
      "cell_type": "code",
      "metadata": {
        "id": "e9MLh37K3xKz"
      },
      "source": [
        "import pandas as pd"
      ],
      "execution_count": 1,
      "outputs": []
    },
    {
      "cell_type": "code",
      "metadata": {
        "colab": {
          "base_uri": "https://localhost:8080/",
          "height": 415
        },
        "id": "-rfV32qZ7tdx",
        "outputId": "88a760e1-40dc-403f-a7f6-ab532379f371"
      },
      "source": [
        "data=pd.read_csv('/content/city_day.csv')\n",
        "data"
      ],
      "execution_count": 2,
      "outputs": [
        {
          "output_type": "execute_result",
          "data": {
            "text/html": [
              "<div>\n",
              "<style scoped>\n",
              "    .dataframe tbody tr th:only-of-type {\n",
              "        vertical-align: middle;\n",
              "    }\n",
              "\n",
              "    .dataframe tbody tr th {\n",
              "        vertical-align: top;\n",
              "    }\n",
              "\n",
              "    .dataframe thead th {\n",
              "        text-align: right;\n",
              "    }\n",
              "</style>\n",
              "<table border=\"1\" class=\"dataframe\">\n",
              "  <thead>\n",
              "    <tr style=\"text-align: right;\">\n",
              "      <th></th>\n",
              "      <th>City</th>\n",
              "      <th>Date</th>\n",
              "      <th>PM2.5</th>\n",
              "      <th>PM10</th>\n",
              "      <th>NO</th>\n",
              "      <th>NO2</th>\n",
              "      <th>NOx</th>\n",
              "      <th>NH3</th>\n",
              "      <th>CO</th>\n",
              "      <th>SO2</th>\n",
              "      <th>O3</th>\n",
              "      <th>Benzene</th>\n",
              "      <th>Toluene</th>\n",
              "      <th>Xylene</th>\n",
              "      <th>AQI</th>\n",
              "      <th>AQI_Bucket</th>\n",
              "    </tr>\n",
              "  </thead>\n",
              "  <tbody>\n",
              "    <tr>\n",
              "      <th>0</th>\n",
              "      <td>Ahmedabad</td>\n",
              "      <td>2015-01-01</td>\n",
              "      <td>NaN</td>\n",
              "      <td>NaN</td>\n",
              "      <td>0.92</td>\n",
              "      <td>18.22</td>\n",
              "      <td>17.15</td>\n",
              "      <td>NaN</td>\n",
              "      <td>0.92</td>\n",
              "      <td>27.64</td>\n",
              "      <td>133.36</td>\n",
              "      <td>0.00</td>\n",
              "      <td>0.02</td>\n",
              "      <td>0.00</td>\n",
              "      <td>NaN</td>\n",
              "      <td>NaN</td>\n",
              "    </tr>\n",
              "    <tr>\n",
              "      <th>1</th>\n",
              "      <td>Ahmedabad</td>\n",
              "      <td>2015-01-02</td>\n",
              "      <td>NaN</td>\n",
              "      <td>NaN</td>\n",
              "      <td>0.97</td>\n",
              "      <td>15.69</td>\n",
              "      <td>16.46</td>\n",
              "      <td>NaN</td>\n",
              "      <td>0.97</td>\n",
              "      <td>24.55</td>\n",
              "      <td>34.06</td>\n",
              "      <td>3.68</td>\n",
              "      <td>5.50</td>\n",
              "      <td>3.77</td>\n",
              "      <td>NaN</td>\n",
              "      <td>NaN</td>\n",
              "    </tr>\n",
              "    <tr>\n",
              "      <th>2</th>\n",
              "      <td>Ahmedabad</td>\n",
              "      <td>2015-01-03</td>\n",
              "      <td>NaN</td>\n",
              "      <td>NaN</td>\n",
              "      <td>17.40</td>\n",
              "      <td>19.30</td>\n",
              "      <td>29.70</td>\n",
              "      <td>NaN</td>\n",
              "      <td>17.40</td>\n",
              "      <td>29.07</td>\n",
              "      <td>30.70</td>\n",
              "      <td>6.80</td>\n",
              "      <td>16.40</td>\n",
              "      <td>2.25</td>\n",
              "      <td>NaN</td>\n",
              "      <td>NaN</td>\n",
              "    </tr>\n",
              "    <tr>\n",
              "      <th>3</th>\n",
              "      <td>Ahmedabad</td>\n",
              "      <td>2015-01-04</td>\n",
              "      <td>NaN</td>\n",
              "      <td>NaN</td>\n",
              "      <td>1.70</td>\n",
              "      <td>18.48</td>\n",
              "      <td>17.97</td>\n",
              "      <td>NaN</td>\n",
              "      <td>1.70</td>\n",
              "      <td>18.59</td>\n",
              "      <td>36.08</td>\n",
              "      <td>4.43</td>\n",
              "      <td>10.14</td>\n",
              "      <td>1.00</td>\n",
              "      <td>NaN</td>\n",
              "      <td>NaN</td>\n",
              "    </tr>\n",
              "    <tr>\n",
              "      <th>4</th>\n",
              "      <td>Ahmedabad</td>\n",
              "      <td>2015-01-05</td>\n",
              "      <td>NaN</td>\n",
              "      <td>NaN</td>\n",
              "      <td>22.10</td>\n",
              "      <td>21.42</td>\n",
              "      <td>37.76</td>\n",
              "      <td>NaN</td>\n",
              "      <td>22.10</td>\n",
              "      <td>39.33</td>\n",
              "      <td>39.31</td>\n",
              "      <td>7.01</td>\n",
              "      <td>18.89</td>\n",
              "      <td>2.78</td>\n",
              "      <td>NaN</td>\n",
              "      <td>NaN</td>\n",
              "    </tr>\n",
              "    <tr>\n",
              "      <th>...</th>\n",
              "      <td>...</td>\n",
              "      <td>...</td>\n",
              "      <td>...</td>\n",
              "      <td>...</td>\n",
              "      <td>...</td>\n",
              "      <td>...</td>\n",
              "      <td>...</td>\n",
              "      <td>...</td>\n",
              "      <td>...</td>\n",
              "      <td>...</td>\n",
              "      <td>...</td>\n",
              "      <td>...</td>\n",
              "      <td>...</td>\n",
              "      <td>...</td>\n",
              "      <td>...</td>\n",
              "      <td>...</td>\n",
              "    </tr>\n",
              "    <tr>\n",
              "      <th>29526</th>\n",
              "      <td>Visakhapatnam</td>\n",
              "      <td>2020-06-27</td>\n",
              "      <td>15.02</td>\n",
              "      <td>50.94</td>\n",
              "      <td>7.68</td>\n",
              "      <td>25.06</td>\n",
              "      <td>19.54</td>\n",
              "      <td>12.47</td>\n",
              "      <td>0.47</td>\n",
              "      <td>8.55</td>\n",
              "      <td>23.30</td>\n",
              "      <td>2.24</td>\n",
              "      <td>12.07</td>\n",
              "      <td>0.73</td>\n",
              "      <td>41.0</td>\n",
              "      <td>Good</td>\n",
              "    </tr>\n",
              "    <tr>\n",
              "      <th>29527</th>\n",
              "      <td>Visakhapatnam</td>\n",
              "      <td>2020-06-28</td>\n",
              "      <td>24.38</td>\n",
              "      <td>74.09</td>\n",
              "      <td>3.42</td>\n",
              "      <td>26.06</td>\n",
              "      <td>16.53</td>\n",
              "      <td>11.99</td>\n",
              "      <td>0.52</td>\n",
              "      <td>12.72</td>\n",
              "      <td>30.14</td>\n",
              "      <td>0.74</td>\n",
              "      <td>2.21</td>\n",
              "      <td>0.38</td>\n",
              "      <td>70.0</td>\n",
              "      <td>Satisfactory</td>\n",
              "    </tr>\n",
              "    <tr>\n",
              "      <th>29528</th>\n",
              "      <td>Visakhapatnam</td>\n",
              "      <td>2020-06-29</td>\n",
              "      <td>22.91</td>\n",
              "      <td>65.73</td>\n",
              "      <td>3.45</td>\n",
              "      <td>29.53</td>\n",
              "      <td>18.33</td>\n",
              "      <td>10.71</td>\n",
              "      <td>0.48</td>\n",
              "      <td>8.42</td>\n",
              "      <td>30.96</td>\n",
              "      <td>0.01</td>\n",
              "      <td>0.01</td>\n",
              "      <td>0.00</td>\n",
              "      <td>68.0</td>\n",
              "      <td>Satisfactory</td>\n",
              "    </tr>\n",
              "    <tr>\n",
              "      <th>29529</th>\n",
              "      <td>Visakhapatnam</td>\n",
              "      <td>2020-06-30</td>\n",
              "      <td>16.64</td>\n",
              "      <td>49.97</td>\n",
              "      <td>4.05</td>\n",
              "      <td>29.26</td>\n",
              "      <td>18.80</td>\n",
              "      <td>10.03</td>\n",
              "      <td>0.52</td>\n",
              "      <td>9.84</td>\n",
              "      <td>28.30</td>\n",
              "      <td>0.00</td>\n",
              "      <td>0.00</td>\n",
              "      <td>0.00</td>\n",
              "      <td>54.0</td>\n",
              "      <td>Satisfactory</td>\n",
              "    </tr>\n",
              "    <tr>\n",
              "      <th>29530</th>\n",
              "      <td>Visakhapatnam</td>\n",
              "      <td>2020-07-01</td>\n",
              "      <td>15.00</td>\n",
              "      <td>66.00</td>\n",
              "      <td>0.40</td>\n",
              "      <td>26.85</td>\n",
              "      <td>14.05</td>\n",
              "      <td>5.20</td>\n",
              "      <td>0.59</td>\n",
              "      <td>2.10</td>\n",
              "      <td>17.05</td>\n",
              "      <td>NaN</td>\n",
              "      <td>NaN</td>\n",
              "      <td>NaN</td>\n",
              "      <td>50.0</td>\n",
              "      <td>Good</td>\n",
              "    </tr>\n",
              "  </tbody>\n",
              "</table>\n",
              "<p>29531 rows × 16 columns</p>\n",
              "</div>"
            ],
            "text/plain": [
              "                City        Date  PM2.5  ...  Xylene   AQI    AQI_Bucket\n",
              "0          Ahmedabad  2015-01-01    NaN  ...    0.00   NaN           NaN\n",
              "1          Ahmedabad  2015-01-02    NaN  ...    3.77   NaN           NaN\n",
              "2          Ahmedabad  2015-01-03    NaN  ...    2.25   NaN           NaN\n",
              "3          Ahmedabad  2015-01-04    NaN  ...    1.00   NaN           NaN\n",
              "4          Ahmedabad  2015-01-05    NaN  ...    2.78   NaN           NaN\n",
              "...              ...         ...    ...  ...     ...   ...           ...\n",
              "29526  Visakhapatnam  2020-06-27  15.02  ...    0.73  41.0          Good\n",
              "29527  Visakhapatnam  2020-06-28  24.38  ...    0.38  70.0  Satisfactory\n",
              "29528  Visakhapatnam  2020-06-29  22.91  ...    0.00  68.0  Satisfactory\n",
              "29529  Visakhapatnam  2020-06-30  16.64  ...    0.00  54.0  Satisfactory\n",
              "29530  Visakhapatnam  2020-07-01  15.00  ...     NaN  50.0          Good\n",
              "\n",
              "[29531 rows x 16 columns]"
            ]
          },
          "metadata": {
            "tags": []
          },
          "execution_count": 2
        }
      ]
    },
    {
      "cell_type": "code",
      "metadata": {
        "colab": {
          "base_uri": "https://localhost:8080/"
        },
        "id": "QOfdWXsY7zpa",
        "outputId": "8a42a52e-35fb-4991-9416-ab1f70e72d09"
      },
      "source": [
        "data.shape"
      ],
      "execution_count": 3,
      "outputs": [
        {
          "output_type": "execute_result",
          "data": {
            "text/plain": [
              "(29531, 16)"
            ]
          },
          "metadata": {
            "tags": []
          },
          "execution_count": 3
        }
      ]
    },
    {
      "cell_type": "code",
      "metadata": {
        "colab": {
          "base_uri": "https://localhost:8080/"
        },
        "id": "INCp9btv9K1k",
        "outputId": "9041b9a6-612b-4daa-fa37-bde53b42ff6a"
      },
      "source": [
        "data.dtypes"
      ],
      "execution_count": 4,
      "outputs": [
        {
          "output_type": "execute_result",
          "data": {
            "text/plain": [
              "City           object\n",
              "Date           object\n",
              "PM2.5         float64\n",
              "PM10          float64\n",
              "NO            float64\n",
              "NO2           float64\n",
              "NOx           float64\n",
              "NH3           float64\n",
              "CO            float64\n",
              "SO2           float64\n",
              "O3            float64\n",
              "Benzene       float64\n",
              "Toluene       float64\n",
              "Xylene        float64\n",
              "AQI           float64\n",
              "AQI_Bucket     object\n",
              "dtype: object"
            ]
          },
          "metadata": {
            "tags": []
          },
          "execution_count": 4
        }
      ]
    },
    {
      "cell_type": "code",
      "metadata": {
        "colab": {
          "base_uri": "https://localhost:8080/"
        },
        "id": "YpIctWvQ77_8",
        "outputId": "03ade6d7-c71c-4aac-d8b3-1e1931d08566"
      },
      "source": [
        "data.columns"
      ],
      "execution_count": 5,
      "outputs": [
        {
          "output_type": "execute_result",
          "data": {
            "text/plain": [
              "Index(['City', 'Date', 'PM2.5', 'PM10', 'NO', 'NO2', 'NOx', 'NH3', 'CO', 'SO2',\n",
              "       'O3', 'Benzene', 'Toluene', 'Xylene', 'AQI', 'AQI_Bucket'],\n",
              "      dtype='object')"
            ]
          },
          "metadata": {
            "tags": []
          },
          "execution_count": 5
        }
      ]
    },
    {
      "cell_type": "code",
      "metadata": {
        "colab": {
          "base_uri": "https://localhost:8080/"
        },
        "id": "3xDflQyq_Iwk",
        "outputId": "33b8d958-aa14-4521-f01b-4eabf6fdcd16"
      },
      "source": [
        "data.isnull().sum()"
      ],
      "execution_count": 6,
      "outputs": [
        {
          "output_type": "execute_result",
          "data": {
            "text/plain": [
              "City              0\n",
              "Date              0\n",
              "PM2.5          4598\n",
              "PM10          11140\n",
              "NO             3582\n",
              "NO2            3585\n",
              "NOx            4185\n",
              "NH3           10328\n",
              "CO             2059\n",
              "SO2            3854\n",
              "O3             4022\n",
              "Benzene        5623\n",
              "Toluene        8041\n",
              "Xylene        18109\n",
              "AQI            4681\n",
              "AQI_Bucket     4681\n",
              "dtype: int64"
            ]
          },
          "metadata": {
            "tags": []
          },
          "execution_count": 6
        }
      ]
    },
    {
      "cell_type": "markdown",
      "metadata": {
        "id": "-EXhiF_lwfyW"
      },
      "source": [
        "There are null or missing values in the dataset.We can't proceed with that.\n",
        "\n",
        "We have to clean them by either removing them or replacing them accordingly."
      ]
    },
    {
      "cell_type": "markdown",
      "metadata": {
        "id": "epmL_NfR_Oxr"
      },
      "source": [
        "## **Data Cleaning**"
      ]
    },
    {
      "cell_type": "markdown",
      "metadata": {
        "id": "GfouLcScy8ul"
      },
      "source": [
        "As we can see above there are null or missing values in the data.We cannot use this type of data with null values as it affects the performance as well as the accuracy of the model.Therefore, we will clean the data.\n",
        "\n",
        "For data cleaning, we'll fill the null values by their column's respective mean."
      ]
    },
    {
      "cell_type": "code",
      "metadata": {
        "colab": {
          "base_uri": "https://localhost:8080/"
        },
        "id": "YJVRzmWL_N0s",
        "outputId": "c6ff8c53-8f4b-464e-dc0d-037e0648ee32"
      },
      "source": [
        "data['PM2.5'].isnull().sum()"
      ],
      "execution_count": 7,
      "outputs": [
        {
          "output_type": "execute_result",
          "data": {
            "text/plain": [
              "4598"
            ]
          },
          "metadata": {
            "tags": []
          },
          "execution_count": 7
        }
      ]
    },
    {
      "cell_type": "code",
      "metadata": {
        "colab": {
          "base_uri": "https://localhost:8080/"
        },
        "id": "XkAdCQ7O_duJ",
        "outputId": "59a6f679-5e83-40be-dbdf-884f43380342"
      },
      "source": [
        "data['PM2.5'].mean()"
      ],
      "execution_count": 8,
      "outputs": [
        {
          "output_type": "execute_result",
          "data": {
            "text/plain": [
              "67.45057794890272"
            ]
          },
          "metadata": {
            "tags": []
          },
          "execution_count": 8
        }
      ]
    },
    {
      "cell_type": "code",
      "metadata": {
        "id": "VAiyUJQ8_9A9"
      },
      "source": [
        "data['PM2.5'].fillna('67',inplace=True)"
      ],
      "execution_count": 9,
      "outputs": []
    },
    {
      "cell_type": "code",
      "metadata": {
        "colab": {
          "base_uri": "https://localhost:8080/"
        },
        "id": "a8vyU7TfAHoS",
        "outputId": "c2cbca67-89d1-4535-c52a-00dcda8106e7"
      },
      "source": [
        "data['PM2.5'].isnull().sum()"
      ],
      "execution_count": 10,
      "outputs": [
        {
          "output_type": "execute_result",
          "data": {
            "text/plain": [
              "0"
            ]
          },
          "metadata": {
            "tags": []
          },
          "execution_count": 10
        }
      ]
    },
    {
      "cell_type": "code",
      "metadata": {
        "colab": {
          "base_uri": "https://localhost:8080/"
        },
        "id": "pS0kOMb0AMPQ",
        "outputId": "d7865f32-3b20-4a38-ef93-7ba05b6f43ed"
      },
      "source": [
        "data['PM10'].isnull().sum()"
      ],
      "execution_count": 11,
      "outputs": [
        {
          "output_type": "execute_result",
          "data": {
            "text/plain": [
              "11140"
            ]
          },
          "metadata": {
            "tags": []
          },
          "execution_count": 11
        }
      ]
    },
    {
      "cell_type": "code",
      "metadata": {
        "colab": {
          "base_uri": "https://localhost:8080/"
        },
        "id": "3fdsalJGDX5a",
        "outputId": "ac3161ea-3f08-4bc0-bbfc-029b450fc21c"
      },
      "source": [
        "data['PM10'].mean()"
      ],
      "execution_count": 12,
      "outputs": [
        {
          "output_type": "execute_result",
          "data": {
            "text/plain": [
              "118.12710293078102"
            ]
          },
          "metadata": {
            "tags": []
          },
          "execution_count": 12
        }
      ]
    },
    {
      "cell_type": "code",
      "metadata": {
        "id": "AGw2Gb_eDfgc"
      },
      "source": [
        "data['PM10'].fillna('118',inplace=True)"
      ],
      "execution_count": 13,
      "outputs": []
    },
    {
      "cell_type": "code",
      "metadata": {
        "colab": {
          "base_uri": "https://localhost:8080/"
        },
        "id": "lfF7UMvMDj_J",
        "outputId": "2417b136-a4b2-45d7-c4c6-fecdd6bf5d81"
      },
      "source": [
        "data['PM10'].isnull().sum()"
      ],
      "execution_count": 14,
      "outputs": [
        {
          "output_type": "execute_result",
          "data": {
            "text/plain": [
              "0"
            ]
          },
          "metadata": {
            "tags": []
          },
          "execution_count": 14
        }
      ]
    },
    {
      "cell_type": "code",
      "metadata": {
        "colab": {
          "base_uri": "https://localhost:8080/"
        },
        "id": "4rs-nLBhDmYp",
        "outputId": "7cce059b-0629-4300-d8e0-8b9d1b05558f"
      },
      "source": [
        "data['NO'].isnull().sum()"
      ],
      "execution_count": 15,
      "outputs": [
        {
          "output_type": "execute_result",
          "data": {
            "text/plain": [
              "3582"
            ]
          },
          "metadata": {
            "tags": []
          },
          "execution_count": 15
        }
      ]
    },
    {
      "cell_type": "code",
      "metadata": {
        "colab": {
          "base_uri": "https://localhost:8080/"
        },
        "id": "Xjy5hENmD0fP",
        "outputId": "01392a83-616f-49a2-d4df-7ce892944a61"
      },
      "source": [
        "data['NO'].mean()"
      ],
      "execution_count": 16,
      "outputs": [
        {
          "output_type": "execute_result",
          "data": {
            "text/plain": [
              "17.574729662029284"
            ]
          },
          "metadata": {
            "tags": []
          },
          "execution_count": 16
        }
      ]
    },
    {
      "cell_type": "code",
      "metadata": {
        "id": "UtK92DFbD8J5"
      },
      "source": [
        "data['NO'].fillna('17',inplace=True)"
      ],
      "execution_count": 17,
      "outputs": []
    },
    {
      "cell_type": "code",
      "metadata": {
        "colab": {
          "base_uri": "https://localhost:8080/"
        },
        "id": "EnpZmUw6EFdt",
        "outputId": "06339e14-a50f-4357-fca2-e8dfb8ab3c72"
      },
      "source": [
        "data['NO'].isnull().sum()"
      ],
      "execution_count": 18,
      "outputs": [
        {
          "output_type": "execute_result",
          "data": {
            "text/plain": [
              "0"
            ]
          },
          "metadata": {
            "tags": []
          },
          "execution_count": 18
        }
      ]
    },
    {
      "cell_type": "code",
      "metadata": {
        "colab": {
          "base_uri": "https://localhost:8080/"
        },
        "id": "TVEoN-nLEHqV",
        "outputId": "b6f7e0e8-2883-477f-f797-a7e6996c8b52"
      },
      "source": [
        "data['NO2'].isnull().sum()"
      ],
      "execution_count": 19,
      "outputs": [
        {
          "output_type": "execute_result",
          "data": {
            "text/plain": [
              "3585"
            ]
          },
          "metadata": {
            "tags": []
          },
          "execution_count": 19
        }
      ]
    },
    {
      "cell_type": "code",
      "metadata": {
        "colab": {
          "base_uri": "https://localhost:8080/"
        },
        "id": "TLMZgpekFuA4",
        "outputId": "f9699553-3027-451d-9678-6d563f92910b"
      },
      "source": [
        "data['NO2'].mean()"
      ],
      "execution_count": 20,
      "outputs": [
        {
          "output_type": "execute_result",
          "data": {
            "text/plain": [
              "28.560659061126763"
            ]
          },
          "metadata": {
            "tags": []
          },
          "execution_count": 20
        }
      ]
    },
    {
      "cell_type": "code",
      "metadata": {
        "id": "T4pfsPeSFxaJ"
      },
      "source": [
        "data['NO2'].fillna('28',inplace=True)"
      ],
      "execution_count": 21,
      "outputs": []
    },
    {
      "cell_type": "code",
      "metadata": {
        "colab": {
          "base_uri": "https://localhost:8080/"
        },
        "id": "WSg6_-vyF83c",
        "outputId": "0e9f53b8-4c75-43c2-fe3a-07f47fa4e160"
      },
      "source": [
        "data['NO2'].isnull().sum()"
      ],
      "execution_count": 22,
      "outputs": [
        {
          "output_type": "execute_result",
          "data": {
            "text/plain": [
              "0"
            ]
          },
          "metadata": {
            "tags": []
          },
          "execution_count": 22
        }
      ]
    },
    {
      "cell_type": "code",
      "metadata": {
        "colab": {
          "base_uri": "https://localhost:8080/"
        },
        "id": "vCluX37uF_iK",
        "outputId": "97f0346c-1f8b-417c-9cb6-73cd2b2ba635"
      },
      "source": [
        "data['CO'].isnull().sum()"
      ],
      "execution_count": 23,
      "outputs": [
        {
          "output_type": "execute_result",
          "data": {
            "text/plain": [
              "2059"
            ]
          },
          "metadata": {
            "tags": []
          },
          "execution_count": 23
        }
      ]
    },
    {
      "cell_type": "code",
      "metadata": {
        "colab": {
          "base_uri": "https://localhost:8080/"
        },
        "id": "E0WUISbMGIDs",
        "outputId": "6e62ee2e-1dc0-43eb-82c5-eca1f1126764"
      },
      "source": [
        "data['CO'].mean()"
      ],
      "execution_count": 24,
      "outputs": [
        {
          "output_type": "execute_result",
          "data": {
            "text/plain": [
              "2.248598209085598"
            ]
          },
          "metadata": {
            "tags": []
          },
          "execution_count": 24
        }
      ]
    },
    {
      "cell_type": "code",
      "metadata": {
        "id": "GZvmv4qPGMXm"
      },
      "source": [
        "data['CO'].fillna('2',inplace=True)"
      ],
      "execution_count": 25,
      "outputs": []
    },
    {
      "cell_type": "code",
      "metadata": {
        "colab": {
          "base_uri": "https://localhost:8080/"
        },
        "id": "MbnibuEWGS8m",
        "outputId": "12529ef1-b482-4138-9af5-3a3435b32794"
      },
      "source": [
        "data['CO'].isnull().sum()"
      ],
      "execution_count": 26,
      "outputs": [
        {
          "output_type": "execute_result",
          "data": {
            "text/plain": [
              "0"
            ]
          },
          "metadata": {
            "tags": []
          },
          "execution_count": 26
        }
      ]
    },
    {
      "cell_type": "code",
      "metadata": {
        "colab": {
          "base_uri": "https://localhost:8080/"
        },
        "id": "FgaZ1bOBGWSs",
        "outputId": "556b1aa4-d30f-43ed-ac66-2c1af7d3ae7e"
      },
      "source": [
        "data['SO2'].isnull().sum()"
      ],
      "execution_count": 27,
      "outputs": [
        {
          "output_type": "execute_result",
          "data": {
            "text/plain": [
              "3854"
            ]
          },
          "metadata": {
            "tags": []
          },
          "execution_count": 27
        }
      ]
    },
    {
      "cell_type": "code",
      "metadata": {
        "colab": {
          "base_uri": "https://localhost:8080/"
        },
        "id": "mvz4XaHUGY2V",
        "outputId": "0b3deba9-6af1-4368-d1ea-bbc0b7fe7aab"
      },
      "source": [
        "data['SO2'].mean()"
      ],
      "execution_count": 28,
      "outputs": [
        {
          "output_type": "execute_result",
          "data": {
            "text/plain": [
              "14.531977255910002"
            ]
          },
          "metadata": {
            "tags": []
          },
          "execution_count": 28
        }
      ]
    },
    {
      "cell_type": "code",
      "metadata": {
        "id": "rJXTEiFMGbeO"
      },
      "source": [
        "data['SO2'].fillna('14',inplace=True)"
      ],
      "execution_count": 29,
      "outputs": []
    },
    {
      "cell_type": "code",
      "metadata": {
        "colab": {
          "base_uri": "https://localhost:8080/"
        },
        "id": "1ML6_5ivGfiX",
        "outputId": "7a11fdbb-570a-419c-b1e3-a947e03614ff"
      },
      "source": [
        "data['SO2'].isnull().sum()"
      ],
      "execution_count": 30,
      "outputs": [
        {
          "output_type": "execute_result",
          "data": {
            "text/plain": [
              "0"
            ]
          },
          "metadata": {
            "tags": []
          },
          "execution_count": 30
        }
      ]
    },
    {
      "cell_type": "code",
      "metadata": {
        "colab": {
          "base_uri": "https://localhost:8080/"
        },
        "id": "gxBrcF9zGhd7",
        "outputId": "06c68995-7707-4e3f-ac5c-292c2b3edc1d"
      },
      "source": [
        "data['O3'].isnull().sum()"
      ],
      "execution_count": 31,
      "outputs": [
        {
          "output_type": "execute_result",
          "data": {
            "text/plain": [
              "4022"
            ]
          },
          "metadata": {
            "tags": []
          },
          "execution_count": 31
        }
      ]
    },
    {
      "cell_type": "code",
      "metadata": {
        "colab": {
          "base_uri": "https://localhost:8080/"
        },
        "id": "1z6WIE21GrUb",
        "outputId": "b215fc62-fdf3-45f3-b11e-64cf6a6b7eef"
      },
      "source": [
        "data['O3'].mean()"
      ],
      "execution_count": 32,
      "outputs": [
        {
          "output_type": "execute_result",
          "data": {
            "text/plain": [
              "34.49143047551808"
            ]
          },
          "metadata": {
            "tags": []
          },
          "execution_count": 32
        }
      ]
    },
    {
      "cell_type": "code",
      "metadata": {
        "id": "IY7cH-xNGuUn"
      },
      "source": [
        "data['O3'].fillna('34',inplace=True)"
      ],
      "execution_count": 33,
      "outputs": []
    },
    {
      "cell_type": "code",
      "metadata": {
        "colab": {
          "base_uri": "https://localhost:8080/"
        },
        "id": "zoDH0FDHG1Dg",
        "outputId": "7902d39f-9619-4334-f10e-12a4e776ebe0"
      },
      "source": [
        "data['O3'].isnull().sum()"
      ],
      "execution_count": 34,
      "outputs": [
        {
          "output_type": "execute_result",
          "data": {
            "text/plain": [
              "0"
            ]
          },
          "metadata": {
            "tags": []
          },
          "execution_count": 34
        }
      ]
    },
    {
      "cell_type": "code",
      "metadata": {
        "colab": {
          "base_uri": "https://localhost:8080/"
        },
        "id": "2fTjemfzH_Gt",
        "outputId": "9ac11427-16f5-4d5a-b0e4-000a4ca6e0ea"
      },
      "source": [
        "data['AQI'].isnull().sum()"
      ],
      "execution_count": 35,
      "outputs": [
        {
          "output_type": "execute_result",
          "data": {
            "text/plain": [
              "4681"
            ]
          },
          "metadata": {
            "tags": []
          },
          "execution_count": 35
        }
      ]
    },
    {
      "cell_type": "code",
      "metadata": {
        "colab": {
          "base_uri": "https://localhost:8080/"
        },
        "id": "pcXGjWBrICo4",
        "outputId": "4847500b-4ecd-4ff5-cde4-9a7f23c3b0d8"
      },
      "source": [
        "data['AQI'].mean()"
      ],
      "execution_count": 36,
      "outputs": [
        {
          "output_type": "execute_result",
          "data": {
            "text/plain": [
              "166.4635814889336"
            ]
          },
          "metadata": {
            "tags": []
          },
          "execution_count": 36
        }
      ]
    },
    {
      "cell_type": "code",
      "metadata": {
        "id": "mohpvTpKIFfq"
      },
      "source": [
        "data['AQI'].fillna('166',inplace=True)"
      ],
      "execution_count": 37,
      "outputs": []
    },
    {
      "cell_type": "code",
      "metadata": {
        "colab": {
          "base_uri": "https://localhost:8080/"
        },
        "id": "dmmDVllmIV3Y",
        "outputId": "9e6af9a7-7565-437b-e0b5-b7c2ce3ef046"
      },
      "source": [
        "data['AQI'].isnull().sum()"
      ],
      "execution_count": 38,
      "outputs": [
        {
          "output_type": "execute_result",
          "data": {
            "text/plain": [
              "0"
            ]
          },
          "metadata": {
            "tags": []
          },
          "execution_count": 38
        }
      ]
    },
    {
      "cell_type": "code",
      "metadata": {
        "colab": {
          "base_uri": "https://localhost:8080/"
        },
        "id": "vMSTeRCZH2c7",
        "outputId": "7f638166-4589-48a2-ac36-2ef3462f9522"
      },
      "source": [
        "data.isnull().sum()"
      ],
      "execution_count": 39,
      "outputs": [
        {
          "output_type": "execute_result",
          "data": {
            "text/plain": [
              "City              0\n",
              "Date              0\n",
              "PM2.5             0\n",
              "PM10              0\n",
              "NO                0\n",
              "NO2               0\n",
              "NOx            4185\n",
              "NH3           10328\n",
              "CO                0\n",
              "SO2               0\n",
              "O3                0\n",
              "Benzene        5623\n",
              "Toluene        8041\n",
              "Xylene        18109\n",
              "AQI               0\n",
              "AQI_Bucket     4681\n",
              "dtype: int64"
            ]
          },
          "metadata": {
            "tags": []
          },
          "execution_count": 39
        }
      ]
    },
    {
      "cell_type": "code",
      "metadata": {
        "colab": {
          "base_uri": "https://localhost:8080/"
        },
        "id": "FVbLQNExHmX8",
        "outputId": "88949d3b-e4ee-4b33-cd0d-11179a120080"
      },
      "source": [
        "#Drop unwanted columns.\n",
        "newdata=data.drop(['City', 'Date','NOx', 'NH3','Benzene', 'Toluene', 'Xylene', 'AQI_Bucket'],axis=1)\n",
        "newdata.columns"
      ],
      "execution_count": 40,
      "outputs": [
        {
          "output_type": "execute_result",
          "data": {
            "text/plain": [
              "Index(['PM2.5', 'PM10', 'NO', 'NO2', 'CO', 'SO2', 'O3', 'AQI'], dtype='object')"
            ]
          },
          "metadata": {
            "tags": []
          },
          "execution_count": 40
        }
      ]
    },
    {
      "cell_type": "code",
      "metadata": {
        "colab": {
          "base_uri": "https://localhost:8080/"
        },
        "id": "ID1GhNYuIiry",
        "outputId": "ca95fc49-c259-432a-e824-d8b22f93dd95"
      },
      "source": [
        "newdata.isnull().sum()"
      ],
      "execution_count": 41,
      "outputs": [
        {
          "output_type": "execute_result",
          "data": {
            "text/plain": [
              "PM2.5    0\n",
              "PM10     0\n",
              "NO       0\n",
              "NO2      0\n",
              "CO       0\n",
              "SO2      0\n",
              "O3       0\n",
              "AQI      0\n",
              "dtype: int64"
            ]
          },
          "metadata": {
            "tags": []
          },
          "execution_count": 41
        }
      ]
    },
    {
      "cell_type": "markdown",
      "metadata": {
        "id": "PgMvJg9BzpF2"
      },
      "source": [
        "There are no null values present in the data.We can proceed with next steps."
      ]
    },
    {
      "cell_type": "code",
      "metadata": {
        "colab": {
          "base_uri": "https://localhost:8080/"
        },
        "id": "oFh3BZamInSJ",
        "outputId": "21e41b2a-990c-48b7-d1ec-71657cb625a1"
      },
      "source": [
        "newdata.info()"
      ],
      "execution_count": 42,
      "outputs": [
        {
          "output_type": "stream",
          "text": [
            "<class 'pandas.core.frame.DataFrame'>\n",
            "RangeIndex: 29531 entries, 0 to 29530\n",
            "Data columns (total 8 columns):\n",
            " #   Column  Non-Null Count  Dtype \n",
            "---  ------  --------------  ----- \n",
            " 0   PM2.5   29531 non-null  object\n",
            " 1   PM10    29531 non-null  object\n",
            " 2   NO      29531 non-null  object\n",
            " 3   NO2     29531 non-null  object\n",
            " 4   CO      29531 non-null  object\n",
            " 5   SO2     29531 non-null  object\n",
            " 6   O3      29531 non-null  object\n",
            " 7   AQI     29531 non-null  object\n",
            "dtypes: object(8)\n",
            "memory usage: 1.8+ MB\n"
          ],
          "name": "stdout"
        }
      ]
    },
    {
      "cell_type": "code",
      "metadata": {
        "colab": {
          "base_uri": "https://localhost:8080/",
          "height": 202
        },
        "id": "ov72lPGUIwDM",
        "outputId": "7af37b7c-f8f9-4bdb-9859-5610b13dcb4c"
      },
      "source": [
        "#converting data into int datatype to avoid errors below.\n",
        "prepareddata=newdata.astype(int)\n",
        "prepareddata.head()"
      ],
      "execution_count": 43,
      "outputs": [
        {
          "output_type": "execute_result",
          "data": {
            "text/html": [
              "<div>\n",
              "<style scoped>\n",
              "    .dataframe tbody tr th:only-of-type {\n",
              "        vertical-align: middle;\n",
              "    }\n",
              "\n",
              "    .dataframe tbody tr th {\n",
              "        vertical-align: top;\n",
              "    }\n",
              "\n",
              "    .dataframe thead th {\n",
              "        text-align: right;\n",
              "    }\n",
              "</style>\n",
              "<table border=\"1\" class=\"dataframe\">\n",
              "  <thead>\n",
              "    <tr style=\"text-align: right;\">\n",
              "      <th></th>\n",
              "      <th>PM2.5</th>\n",
              "      <th>PM10</th>\n",
              "      <th>NO</th>\n",
              "      <th>NO2</th>\n",
              "      <th>CO</th>\n",
              "      <th>SO2</th>\n",
              "      <th>O3</th>\n",
              "      <th>AQI</th>\n",
              "    </tr>\n",
              "  </thead>\n",
              "  <tbody>\n",
              "    <tr>\n",
              "      <th>0</th>\n",
              "      <td>67</td>\n",
              "      <td>118</td>\n",
              "      <td>0</td>\n",
              "      <td>18</td>\n",
              "      <td>0</td>\n",
              "      <td>27</td>\n",
              "      <td>133</td>\n",
              "      <td>166</td>\n",
              "    </tr>\n",
              "    <tr>\n",
              "      <th>1</th>\n",
              "      <td>67</td>\n",
              "      <td>118</td>\n",
              "      <td>0</td>\n",
              "      <td>15</td>\n",
              "      <td>0</td>\n",
              "      <td>24</td>\n",
              "      <td>34</td>\n",
              "      <td>166</td>\n",
              "    </tr>\n",
              "    <tr>\n",
              "      <th>2</th>\n",
              "      <td>67</td>\n",
              "      <td>118</td>\n",
              "      <td>17</td>\n",
              "      <td>19</td>\n",
              "      <td>17</td>\n",
              "      <td>29</td>\n",
              "      <td>30</td>\n",
              "      <td>166</td>\n",
              "    </tr>\n",
              "    <tr>\n",
              "      <th>3</th>\n",
              "      <td>67</td>\n",
              "      <td>118</td>\n",
              "      <td>1</td>\n",
              "      <td>18</td>\n",
              "      <td>1</td>\n",
              "      <td>18</td>\n",
              "      <td>36</td>\n",
              "      <td>166</td>\n",
              "    </tr>\n",
              "    <tr>\n",
              "      <th>4</th>\n",
              "      <td>67</td>\n",
              "      <td>118</td>\n",
              "      <td>22</td>\n",
              "      <td>21</td>\n",
              "      <td>22</td>\n",
              "      <td>39</td>\n",
              "      <td>39</td>\n",
              "      <td>166</td>\n",
              "    </tr>\n",
              "  </tbody>\n",
              "</table>\n",
              "</div>"
            ],
            "text/plain": [
              "   PM2.5  PM10  NO  NO2  CO  SO2   O3  AQI\n",
              "0     67   118   0   18   0   27  133  166\n",
              "1     67   118   0   15   0   24   34  166\n",
              "2     67   118  17   19  17   29   30  166\n",
              "3     67   118   1   18   1   18   36  166\n",
              "4     67   118  22   21  22   39   39  166"
            ]
          },
          "metadata": {
            "tags": []
          },
          "execution_count": 43
        }
      ]
    },
    {
      "cell_type": "code",
      "metadata": {
        "colab": {
          "base_uri": "https://localhost:8080/",
          "height": 202
        },
        "id": "NFsXHX3dJF_u",
        "outputId": "5f6c0eb3-e0b7-49b0-bd84-2798114674cc"
      },
      "source": [
        "prepareddata.tail()"
      ],
      "execution_count": 44,
      "outputs": [
        {
          "output_type": "execute_result",
          "data": {
            "text/html": [
              "<div>\n",
              "<style scoped>\n",
              "    .dataframe tbody tr th:only-of-type {\n",
              "        vertical-align: middle;\n",
              "    }\n",
              "\n",
              "    .dataframe tbody tr th {\n",
              "        vertical-align: top;\n",
              "    }\n",
              "\n",
              "    .dataframe thead th {\n",
              "        text-align: right;\n",
              "    }\n",
              "</style>\n",
              "<table border=\"1\" class=\"dataframe\">\n",
              "  <thead>\n",
              "    <tr style=\"text-align: right;\">\n",
              "      <th></th>\n",
              "      <th>PM2.5</th>\n",
              "      <th>PM10</th>\n",
              "      <th>NO</th>\n",
              "      <th>NO2</th>\n",
              "      <th>CO</th>\n",
              "      <th>SO2</th>\n",
              "      <th>O3</th>\n",
              "      <th>AQI</th>\n",
              "    </tr>\n",
              "  </thead>\n",
              "  <tbody>\n",
              "    <tr>\n",
              "      <th>29526</th>\n",
              "      <td>15</td>\n",
              "      <td>50</td>\n",
              "      <td>7</td>\n",
              "      <td>25</td>\n",
              "      <td>0</td>\n",
              "      <td>8</td>\n",
              "      <td>23</td>\n",
              "      <td>41</td>\n",
              "    </tr>\n",
              "    <tr>\n",
              "      <th>29527</th>\n",
              "      <td>24</td>\n",
              "      <td>74</td>\n",
              "      <td>3</td>\n",
              "      <td>26</td>\n",
              "      <td>0</td>\n",
              "      <td>12</td>\n",
              "      <td>30</td>\n",
              "      <td>70</td>\n",
              "    </tr>\n",
              "    <tr>\n",
              "      <th>29528</th>\n",
              "      <td>22</td>\n",
              "      <td>65</td>\n",
              "      <td>3</td>\n",
              "      <td>29</td>\n",
              "      <td>0</td>\n",
              "      <td>8</td>\n",
              "      <td>30</td>\n",
              "      <td>68</td>\n",
              "    </tr>\n",
              "    <tr>\n",
              "      <th>29529</th>\n",
              "      <td>16</td>\n",
              "      <td>49</td>\n",
              "      <td>4</td>\n",
              "      <td>29</td>\n",
              "      <td>0</td>\n",
              "      <td>9</td>\n",
              "      <td>28</td>\n",
              "      <td>54</td>\n",
              "    </tr>\n",
              "    <tr>\n",
              "      <th>29530</th>\n",
              "      <td>15</td>\n",
              "      <td>66</td>\n",
              "      <td>0</td>\n",
              "      <td>26</td>\n",
              "      <td>0</td>\n",
              "      <td>2</td>\n",
              "      <td>17</td>\n",
              "      <td>50</td>\n",
              "    </tr>\n",
              "  </tbody>\n",
              "</table>\n",
              "</div>"
            ],
            "text/plain": [
              "       PM2.5  PM10  NO  NO2  CO  SO2  O3  AQI\n",
              "29526     15    50   7   25   0    8  23   41\n",
              "29527     24    74   3   26   0   12  30   70\n",
              "29528     22    65   3   29   0    8  30   68\n",
              "29529     16    49   4   29   0    9  28   54\n",
              "29530     15    66   0   26   0    2  17   50"
            ]
          },
          "metadata": {
            "tags": []
          },
          "execution_count": 44
        }
      ]
    },
    {
      "cell_type": "code",
      "metadata": {
        "colab": {
          "base_uri": "https://localhost:8080/"
        },
        "id": "S7jLAIAnz6DX",
        "outputId": "bfd5bf2f-d051-4f4a-828b-a850e9c717a0"
      },
      "source": [
        "prepareddata.info()"
      ],
      "execution_count": 45,
      "outputs": [
        {
          "output_type": "stream",
          "text": [
            "<class 'pandas.core.frame.DataFrame'>\n",
            "RangeIndex: 29531 entries, 0 to 29530\n",
            "Data columns (total 8 columns):\n",
            " #   Column  Non-Null Count  Dtype\n",
            "---  ------  --------------  -----\n",
            " 0   PM2.5   29531 non-null  int64\n",
            " 1   PM10    29531 non-null  int64\n",
            " 2   NO      29531 non-null  int64\n",
            " 3   NO2     29531 non-null  int64\n",
            " 4   CO      29531 non-null  int64\n",
            " 5   SO2     29531 non-null  int64\n",
            " 6   O3      29531 non-null  int64\n",
            " 7   AQI     29531 non-null  int64\n",
            "dtypes: int64(8)\n",
            "memory usage: 1.8 MB\n"
          ],
          "name": "stdout"
        }
      ]
    },
    {
      "cell_type": "markdown",
      "metadata": {
        "id": "h41vBLCd1IBm"
      },
      "source": [
        "The above is the prepared data that we will use for visualization and model creation"
      ]
    },
    {
      "cell_type": "code",
      "metadata": {
        "colab": {
          "base_uri": "https://localhost:8080/",
          "height": 294
        },
        "id": "6yKVpz-WJK14",
        "outputId": "125e185a-fc3d-4839-fe28-530f5914180b"
      },
      "source": [
        "prepareddata.describe()"
      ],
      "execution_count": 46,
      "outputs": [
        {
          "output_type": "execute_result",
          "data": {
            "text/html": [
              "<div>\n",
              "<style scoped>\n",
              "    .dataframe tbody tr th:only-of-type {\n",
              "        vertical-align: middle;\n",
              "    }\n",
              "\n",
              "    .dataframe tbody tr th {\n",
              "        vertical-align: top;\n",
              "    }\n",
              "\n",
              "    .dataframe thead th {\n",
              "        text-align: right;\n",
              "    }\n",
              "</style>\n",
              "<table border=\"1\" class=\"dataframe\">\n",
              "  <thead>\n",
              "    <tr style=\"text-align: right;\">\n",
              "      <th></th>\n",
              "      <th>PM2.5</th>\n",
              "      <th>PM10</th>\n",
              "      <th>NO</th>\n",
              "      <th>NO2</th>\n",
              "      <th>CO</th>\n",
              "      <th>SO2</th>\n",
              "      <th>O3</th>\n",
              "      <th>AQI</th>\n",
              "    </tr>\n",
              "  </thead>\n",
              "  <tbody>\n",
              "    <tr>\n",
              "      <th>count</th>\n",
              "      <td>29531.000000</td>\n",
              "      <td>29531.000000</td>\n",
              "      <td>29531.000000</td>\n",
              "      <td>29531.000000</td>\n",
              "      <td>29531.000000</td>\n",
              "      <td>29531.000000</td>\n",
              "      <td>29531.000000</td>\n",
              "      <td>29531.000000</td>\n",
              "    </tr>\n",
              "    <tr>\n",
              "      <th>mean</th>\n",
              "      <td>66.961667</td>\n",
              "      <td>117.771460</td>\n",
              "      <td>17.061698</td>\n",
              "      <td>28.059226</td>\n",
              "      <td>1.805052</td>\n",
              "      <td>14.029765</td>\n",
              "      <td>33.995259</td>\n",
              "      <td>166.390099</td>\n",
              "    </tr>\n",
              "    <tr>\n",
              "      <th>std</th>\n",
              "      <td>59.415477</td>\n",
              "      <td>71.502782</td>\n",
              "      <td>21.365891</td>\n",
              "      <td>22.944183</td>\n",
              "      <td>6.710749</td>\n",
              "      <td>16.910682</td>\n",
              "      <td>20.161619</td>\n",
              "      <td>129.064459</td>\n",
              "    </tr>\n",
              "    <tr>\n",
              "      <th>min</th>\n",
              "      <td>0.000000</td>\n",
              "      <td>0.000000</td>\n",
              "      <td>0.000000</td>\n",
              "      <td>0.000000</td>\n",
              "      <td>0.000000</td>\n",
              "      <td>0.000000</td>\n",
              "      <td>0.000000</td>\n",
              "      <td>13.000000</td>\n",
              "    </tr>\n",
              "    <tr>\n",
              "      <th>25%</th>\n",
              "      <td>32.000000</td>\n",
              "      <td>79.000000</td>\n",
              "      <td>6.000000</td>\n",
              "      <td>12.000000</td>\n",
              "      <td>0.000000</td>\n",
              "      <td>6.000000</td>\n",
              "      <td>20.000000</td>\n",
              "      <td>88.000000</td>\n",
              "    </tr>\n",
              "    <tr>\n",
              "      <th>50%</th>\n",
              "      <td>58.000000</td>\n",
              "      <td>118.000000</td>\n",
              "      <td>11.000000</td>\n",
              "      <td>25.000000</td>\n",
              "      <td>0.000000</td>\n",
              "      <td>10.000000</td>\n",
              "      <td>34.000000</td>\n",
              "      <td>138.000000</td>\n",
              "    </tr>\n",
              "    <tr>\n",
              "      <th>75%</th>\n",
              "      <td>72.000000</td>\n",
              "      <td>118.000000</td>\n",
              "      <td>17.000000</td>\n",
              "      <td>34.000000</td>\n",
              "      <td>1.000000</td>\n",
              "      <td>14.000000</td>\n",
              "      <td>42.000000</td>\n",
              "      <td>179.000000</td>\n",
              "    </tr>\n",
              "    <tr>\n",
              "      <th>max</th>\n",
              "      <td>949.000000</td>\n",
              "      <td>1000.000000</td>\n",
              "      <td>390.000000</td>\n",
              "      <td>362.000000</td>\n",
              "      <td>175.000000</td>\n",
              "      <td>193.000000</td>\n",
              "      <td>257.000000</td>\n",
              "      <td>2049.000000</td>\n",
              "    </tr>\n",
              "  </tbody>\n",
              "</table>\n",
              "</div>"
            ],
            "text/plain": [
              "              PM2.5          PM10  ...            O3           AQI\n",
              "count  29531.000000  29531.000000  ...  29531.000000  29531.000000\n",
              "mean      66.961667    117.771460  ...     33.995259    166.390099\n",
              "std       59.415477     71.502782  ...     20.161619    129.064459\n",
              "min        0.000000      0.000000  ...      0.000000     13.000000\n",
              "25%       32.000000     79.000000  ...     20.000000     88.000000\n",
              "50%       58.000000    118.000000  ...     34.000000    138.000000\n",
              "75%       72.000000    118.000000  ...     42.000000    179.000000\n",
              "max      949.000000   1000.000000  ...    257.000000   2049.000000\n",
              "\n",
              "[8 rows x 8 columns]"
            ]
          },
          "metadata": {
            "tags": []
          },
          "execution_count": 46
        }
      ]
    },
    {
      "cell_type": "markdown",
      "metadata": {
        "id": "VfiuQwW_Lnwx"
      },
      "source": [
        "## **Data visualization**"
      ]
    },
    {
      "cell_type": "code",
      "metadata": {
        "id": "pNJ1GJ2JLuiR"
      },
      "source": [
        "import matplotlib.pyplot as plt\n",
        "%matplotlib inline\n",
        "import seaborn as sns"
      ],
      "execution_count": 47,
      "outputs": []
    },
    {
      "cell_type": "code",
      "metadata": {
        "colab": {
          "base_uri": "https://localhost:8080/",
          "height": 521
        },
        "id": "MgQDzIkhR0Nl",
        "outputId": "9abb7265-d2c3-4f97-fd1e-0f9f3cf62f75"
      },
      "source": [
        "x=prepareddata['AQI']\n",
        "y1=prepareddata['PM2.5']\n",
        "y2=prepareddata['PM10']\n",
        "y3=prepareddata['NO']\n",
        "y4=prepareddata['NO2']\n",
        "y5=prepareddata['CO']\n",
        "y6=prepareddata['SO2']\n",
        "y7=prepareddata['O3']\n",
        "plt.figure(figsize=(15,8))\n",
        "plt.scatter(x,y1,label='PM 2.5',color='palegreen')\n",
        "plt.scatter(x,y2,label='PM 10',color='salmon')\n",
        "plt.scatter(x,y3,label='NO',color='yellow')\n",
        "plt.scatter(x,y4,label='NO2',color='springgreen')\n",
        "plt.scatter(x,y5,label='CO',color='lime')\n",
        "plt.scatter(x,y6,label='SO2',color='violet')\n",
        "plt.scatter(x,y7,label='O3',color='steelblue')\n",
        "plt.title('AQI and its Pollutents',fontsize=18)\n",
        "plt.xlabel('AQI',fontsize=14)\n",
        "plt.ylabel('Value',fontsize=14)\n",
        "plt.legend()\n",
        "plt.show()"
      ],
      "execution_count": 48,
      "outputs": [
        {
          "output_type": "display_data",
          "data": {
            "image/png": "[encoded data removed]",
            "text/plain": [
              "<Figure size 1080x576 with 1 Axes>"
            ]
          },
          "metadata": {
            "tags": [],
            "needs_background": "light"
          }
        }
      ]
    },
    {
      "cell_type": "code",
      "metadata": {
        "colab": {
          "base_uri": "https://localhost:8080/",
          "height": 286
        },
        "id": "cyHFgCwCLp1H",
        "outputId": "dada0067-cd6c-4d6f-adc2-79681fce9910"
      },
      "source": [
        "#to find correlation between different columns.\n",
        "corr = prepareddata.corr() \n",
        "sns.heatmap(corr, annot=True)"
      ],
      "execution_count": 49,
      "outputs": [
        {
          "output_type": "execute_result",
          "data": {
            "text/plain": [
              "<matplotlib.axes._subplots.AxesSubplot at 0x7fae11e04510>"
            ]
          },
          "metadata": {
            "tags": []
          },
          "execution_count": 49
        },
        {
          "output_type": "display_data",
          "data": {
            "image/png": "[encoded data removed]",
            "text/plain": [
              "<Figure size 432x288 with 2 Axes>"
            ]
          },
          "metadata": {
            "tags": [],
            "needs_background": "light"
          }
        }
      ]
    },
    {
      "cell_type": "markdown",
      "metadata": {
        "id": "NMgrcMk-WKpI"
      },
      "source": [
        "Insights :\n",
        "\n",
        "1.When the value of pollutents is less, Air Quality Index (AQI) is less.\n",
        "\n",
        "2.AQI highly depends on \n",
        "\n",
        "ground-level ozone\n",
        "\n",
        "particle pollution (also known as particulate matter, including PM2.5 and PM10)\n",
        "\n",
        "carbon monoxide\n",
        "\n",
        "sulfur dioxide\n",
        "\n",
        "nitrogen dioxide"
      ]
    },
    {
      "cell_type": "markdown",
      "metadata": {
        "id": "eMX6gamk9DFi"
      },
      "source": [
        "## **Data Training**"
      ]
    },
    {
      "cell_type": "code",
      "metadata": {
        "id": "GYCdLKcm79C7"
      },
      "source": [
        "# Import train_test_split from sklearn.model_selection\n",
        "from sklearn.model_selection import train_test_split\n",
        "# Here, X is the data which will have features and y will have our target i.e. Air Quality Index(AQI).\n",
        "x=prepareddata[['PM2.5', 'PM10', 'NO', 'NO2','CO', 'SO2','O3']]  \n",
        "y=prepareddata['AQI']"
      ],
      "execution_count": 50,
      "outputs": []
    },
    {
      "cell_type": "code",
      "metadata": {
        "colab": {
          "base_uri": "https://localhost:8080/"
        },
        "id": "ikX3cpRvJycH",
        "outputId": "ef711203-90d6-4a7d-ba20-099d6ea5bfb3"
      },
      "source": [
        "x.shape"
      ],
      "execution_count": 51,
      "outputs": [
        {
          "output_type": "execute_result",
          "data": {
            "text/plain": [
              "(29531, 7)"
            ]
          },
          "metadata": {
            "tags": []
          },
          "execution_count": 51
        }
      ]
    },
    {
      "cell_type": "code",
      "metadata": {
        "colab": {
          "base_uri": "https://localhost:8080/"
        },
        "id": "Gz_QeBbWJ0Yo",
        "outputId": "0f4c0b02-f984-47fe-d4b2-d08611f4ad5a"
      },
      "source": [
        "y.shape"
      ],
      "execution_count": 52,
      "outputs": [
        {
          "output_type": "execute_result",
          "data": {
            "text/plain": [
              "(29531,)"
            ]
          },
          "metadata": {
            "tags": []
          },
          "execution_count": 52
        }
      ]
    },
    {
      "cell_type": "code",
      "metadata": {
        "id": "YLUhN25e9d7s"
      },
      "source": [
        "# Split data into training data and testing data\n",
        "x_train, x_test, y_train, y_test = train_test_split(x, y, test_size=0.2) \n",
        "#Ratio used for splitting training and testing data is 8:2 respectively"
      ],
      "execution_count": 53,
      "outputs": []
    },
    {
      "cell_type": "markdown",
      "metadata": {
        "id": "FD74kl39KWaX"
      },
      "source": [
        "## **Model Creation**"
      ]
    },
    {
      "cell_type": "markdown",
      "metadata": {
        "id": "WjDjKAm2NYPV"
      },
      "source": [
        "Ridge Regression"
      ]
    },
    {
      "cell_type": "code",
      "metadata": {
        "id": "2U9dv_bMNOjw"
      },
      "source": [
        "# Importing model\n",
        "from sklearn.linear_model import Ridge\n",
        "reg = Ridge()"
      ],
      "execution_count": 54,
      "outputs": []
    },
    {
      "cell_type": "code",
      "metadata": {
        "colab": {
          "base_uri": "https://localhost:8080/"
        },
        "id": "B90bxN8zNjO5",
        "outputId": "8ac00602-86fc-49b1-f193-efe205c9989f"
      },
      "source": [
        "# Fitting data into the model.\n",
        "reg.fit(x_train, y_train)"
      ],
      "execution_count": 55,
      "outputs": [
        {
          "output_type": "execute_result",
          "data": {
            "text/plain": [
              "Ridge(alpha=1.0, copy_X=True, fit_intercept=True, max_iter=None,\n",
              "      normalize=False, random_state=None, solver='auto', tol=0.001)"
            ]
          },
          "metadata": {
            "tags": []
          },
          "execution_count": 55
        }
      ]
    },
    {
      "cell_type": "code",
      "metadata": {
        "id": "y7qFnBGYNned"
      },
      "source": [
        "# Making predictions \n",
        "pred= reg.predict(x_test)"
      ],
      "execution_count": 56,
      "outputs": []
    },
    {
      "cell_type": "code",
      "metadata": {
        "colab": {
          "base_uri": "https://localhost:8080/"
        },
        "id": "OWGRQ2NYOAox",
        "outputId": "229bc0c3-ea5a-48b9-fed2-2e0f87ea9d0b"
      },
      "source": [
        "pred"
      ],
      "execution_count": 57,
      "outputs": [
        {
          "output_type": "execute_result",
          "data": {
            "text/plain": [
              "array([138.31638471,  79.1217472 , 152.62205804, ...,  88.53828357,\n",
              "        68.26901114, 156.27765911])"
            ]
          },
          "metadata": {
            "tags": []
          },
          "execution_count": 57
        }
      ]
    },
    {
      "cell_type": "markdown",
      "metadata": {
        "id": "L0kLvsytPUzK"
      },
      "source": [
        "## **Performance Evaluation**"
      ]
    },
    {
      "cell_type": "code",
      "metadata": {
        "colab": {
          "base_uri": "https://localhost:8080/"
        },
        "id": "_cshIOh5PQPO",
        "outputId": "d087c64c-36c0-4a57-df29-adb0a04b7f7d"
      },
      "source": [
        "import numpy as np\n",
        "from sklearn.metrics import mean_squared_error\n",
        "print(\"Model\\t\\t\\t RootMeanSquareError \\t\\t Accuracy of the model\") \n",
        "print(\"\"\"Ridge Regression \\t\\t {:.4f} \\t \\t\\t {:.4f}\"\"\".format(  np.sqrt(mean_squared_error(y_test, pred)), reg.score(x_train,y_train)))"
      ],
      "execution_count": 58,
      "outputs": [
        {
          "output_type": "stream",
          "text": [
            "Model\t\t\t RootMeanSquareError \t\t Accuracy of the model\n",
            "Ridge Regression \t\t 60.5045 \t \t\t 0.7935\n"
          ],
          "name": "stdout"
        }
      ]
    },
    {
      "cell_type": "markdown",
      "metadata": {
        "id": "0YHcoh5qP86u"
      },
      "source": [
        "Conclusion:\n",
        "Accuracy of Ridge Regression model comes to be 79.35% which is a good accuracy.\n",
        "\n"
      ]
    }
  ]
}