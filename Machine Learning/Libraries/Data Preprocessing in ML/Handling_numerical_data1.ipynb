{
 "cells": [
  {
   "cell_type": "code",
   "execution_count": 1,
   "source": [
    "# check for null values\r\n",
    "\r\n",
    "import pandas as pd\r\n",
    "data = pd.read_csv(\"data.csv\")\r\n",
    "print(data)"
   ],
   "outputs": [
    {
     "output_type": "stream",
     "name": "stdout",
     "text": [
      "       Name   Age      Position  Experience   Salary\n",
      "0     Nitin  24.0       ML Engg         4.0  22000.0\n",
      "1  Harshita  23.0       ML Engg         3.0  18000.0\n",
      "2      Arya   NaN  Data Analyst         NaN      NaN\n",
      "3     Gagan   NaN  Data Analyst         2.0  10000.0\n",
      "4   Randhir   NaN           NaN         4.0  16000.0\n",
      "5    Saurav  22.0         admin         3.0   8000.0\n",
      "6     Manoj  31.0       Manager        11.0  25000.0\n"
     ]
    }
   ],
   "metadata": {}
  },
  {
   "cell_type": "code",
   "execution_count": 2,
   "source": [
    "# check for null data\r\n",
    "res = data.isnull().sum()\r\n",
    "print(res)"
   ],
   "outputs": [
    {
     "output_type": "stream",
     "name": "stdout",
     "text": [
      "Name          0\n",
      "Age           3\n",
      "Position      1\n",
      "Experience    1\n",
      "Salary        1\n",
      "dtype: int64\n"
     ]
    }
   ],
   "metadata": {}
  },
  {
   "cell_type": "code",
   "execution_count": 3,
   "source": [
    "# find out all whose age is null\r\n",
    "d1 = data[data.Age.isnull()]\r\n",
    "print(d1)"
   ],
   "outputs": [
    {
     "output_type": "stream",
     "name": "stdout",
     "text": [
      "      Name  Age      Position  Experience   Salary\n",
      "2     Arya  NaN  Data Analyst         NaN      NaN\n",
      "3    Gagan  NaN  Data Analyst         2.0  10000.0\n",
      "4  Randhir  NaN           NaN         4.0  16000.0\n"
     ]
    }
   ],
   "metadata": {}
  },
  {
   "cell_type": "code",
   "execution_count": 4,
   "source": [
    "# if any value is null\r\n",
    "d3 = data[data.isnull().any(axis=1)]\r\n",
    "print(d3)"
   ],
   "outputs": [
    {
     "output_type": "stream",
     "name": "stdout",
     "text": [
      "      Name  Age      Position  Experience   Salary\n",
      "2     Arya  NaN  Data Analyst         NaN      NaN\n",
      "3    Gagan  NaN  Data Analyst         2.0  10000.0\n",
      "4  Randhir  NaN           NaN         4.0  16000.0\n"
     ]
    }
   ],
   "metadata": {}
  },
  {
   "cell_type": "markdown",
   "source": [
    "### How to drop ?"
   ],
   "metadata": {}
  },
  {
   "cell_type": "code",
   "execution_count": 5,
   "source": [
    "# drops if any null values are present\r\n",
    "d1 = data.dropna(how=\"any\", axis=0)\r\n",
    "print(d1)\r\n",
    "\r\n",
    "# arya, gagan, randhir got dropped"
   ],
   "outputs": [
    {
     "output_type": "stream",
     "name": "stdout",
     "text": [
      "       Name   Age Position  Experience   Salary\n",
      "0     Nitin  24.0  ML Engg         4.0  22000.0\n",
      "1  Harshita  23.0  ML Engg         3.0  18000.0\n",
      "5    Saurav  22.0    admin         3.0   8000.0\n",
      "6     Manoj  31.0  Manager        11.0  25000.0\n"
     ]
    }
   ],
   "metadata": {}
  },
  {
   "cell_type": "code",
   "execution_count": 6,
   "source": [
    "# drop whose salary is null\r\n",
    "d2  = data.dropna(subset=[\"Salary\"])\r\n",
    "print(d2)\r\n",
    "\r\n",
    "# arya got dropped"
   ],
   "outputs": [
    {
     "output_type": "stream",
     "name": "stdout",
     "text": [
      "       Name   Age      Position  Experience   Salary\n",
      "0     Nitin  24.0       ML Engg         4.0  22000.0\n",
      "1  Harshita  23.0       ML Engg         3.0  18000.0\n",
      "3     Gagan   NaN  Data Analyst         2.0  10000.0\n",
      "4   Randhir   NaN           NaN         4.0  16000.0\n",
      "5    Saurav  22.0         admin         3.0   8000.0\n",
      "6     Manoj  31.0       Manager        11.0  25000.0\n"
     ]
    }
   ],
   "metadata": {}
  },
  {
   "cell_type": "markdown",
   "source": [
    "### How to fill missing values ?"
   ],
   "metadata": {}
  },
  {
   "cell_type": "code",
   "execution_count": 7,
   "source": [
    "d1 = data.fillna({\"Age\": data[\"Age\"].mean()})\r\n",
    "print(d1)"
   ],
   "outputs": [
    {
     "output_type": "stream",
     "name": "stdout",
     "text": [
      "       Name   Age      Position  Experience   Salary\n",
      "0     Nitin  24.0       ML Engg         4.0  22000.0\n",
      "1  Harshita  23.0       ML Engg         3.0  18000.0\n",
      "2      Arya  25.0  Data Analyst         NaN      NaN\n",
      "3     Gagan  25.0  Data Analyst         2.0  10000.0\n",
      "4   Randhir  25.0           NaN         4.0  16000.0\n",
      "5    Saurav  22.0         admin         3.0   8000.0\n",
      "6     Manoj  31.0       Manager        11.0  25000.0\n"
     ]
    }
   ],
   "metadata": {}
  },
  {
   "cell_type": "code",
   "execution_count": 8,
   "source": [
    "# fill missing values in Experience\r\n",
    "d2 = data.fillna({\"Experience\": data[\"Experience\"].mean()})\r\n",
    "print(d2)\r\n",
    "print(\" \")"
   ],
   "outputs": [
    {
     "output_type": "stream",
     "name": "stdout",
     "text": [
      "       Name   Age      Position  Experience   Salary\n",
      "0     Nitin  24.0       ML Engg         4.0  22000.0\n",
      "1  Harshita  23.0       ML Engg         3.0  18000.0\n",
      "2      Arya   NaN  Data Analyst         4.5      NaN\n",
      "3     Gagan   NaN  Data Analyst         2.0  10000.0\n",
      "4   Randhir   NaN           NaN         4.0  16000.0\n",
      "5    Saurav  22.0         admin         3.0   8000.0\n",
      "6     Manoj  31.0       Manager        11.0  25000.0\n",
      " \n"
     ]
    }
   ],
   "metadata": {}
  },
  {
   "cell_type": "code",
   "execution_count": 9,
   "source": [
    "# filling null values in Position by a default one\r\n",
    "d3 = data.fillna({\"Position\": \"Unallocated\"})\r\n",
    "print(d3)\r\n"
   ],
   "outputs": [
    {
     "output_type": "stream",
     "name": "stdout",
     "text": [
      "       Name   Age      Position  Experience   Salary\n",
      "0     Nitin  24.0       ML Engg         4.0  22000.0\n",
      "1  Harshita  23.0       ML Engg         3.0  18000.0\n",
      "2      Arya   NaN  Data Analyst         NaN      NaN\n",
      "3     Gagan   NaN  Data Analyst         2.0  10000.0\n",
      "4   Randhir   NaN   Unallocated         4.0  16000.0\n",
      "5    Saurav  22.0         admin         3.0   8000.0\n",
      "6     Manoj  31.0       Manager        11.0  25000.0\n"
     ]
    }
   ],
   "metadata": {}
  }
 ],
 "metadata": {
  "orig_nbformat": 4,
  "language_info": {
   "name": "python",
   "version": "3.6.4",
   "mimetype": "text/x-python",
   "codemirror_mode": {
    "name": "ipython",
    "version": 3
   },
   "pygments_lexer": "ipython3",
   "nbconvert_exporter": "python",
   "file_extension": ".py"
  },
  "kernelspec": {
   "name": "python3",
   "display_name": "Python 3.6.4 64-bit"
  },
  "interpreter": {
   "hash": "f2db1a205d05422567bfea71378eb1163d4d5d7418f0062693a7c6bfcbaf4348"
  }
 },
 "nbformat": 4,
 "nbformat_minor": 2
}